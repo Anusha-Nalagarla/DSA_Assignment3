{
 "cells": [
  {
   "cell_type": "markdown",
   "id": "63a4b1f2",
   "metadata": {},
   "source": [
    "Question 1 Given an integer array nums of length n and an integer target, find three integers in nums such that the sum is closest to the target. Return the sum of the three integers."
   ]
  },
  {
   "cell_type": "code",
   "execution_count": 1,
   "id": "1c256acf",
   "metadata": {},
   "outputs": [
    {
     "data": {
      "text/plain": [
       "2"
      ]
     },
     "execution_count": 1,
     "metadata": {},
     "output_type": "execute_result"
    }
   ],
   "source": [
    "def Q1(nums,target):\n",
    "    nums.sort()\n",
    "    n = len(nums)\n",
    "    a = nums[0] + nums[1] + nums[n - 1]\n",
    "    for i in range(0, n - 2):\n",
    "        j = i + 1\n",
    "        k = n - 1\n",
    "        while j < k:\n",
    "            sum = nums[i] + nums[j] + nums[k]\n",
    "            if sum <= target:\n",
    "                j += 1\n",
    "            else:\n",
    "                k -= 1\n",
    "            if abs(a - target) > abs(a - target):\n",
    "                a = sum\n",
    "    return sum\n",
    "Q1([-1,2,1,-4], 1)"
   ]
  },
  {
   "cell_type": "markdown",
   "id": "51739fb1",
   "metadata": {},
   "source": [
    "Question 3 A permutation of an array of integers is an arrangement of its members into a sequence or linear order."
   ]
  },
  {
   "cell_type": "code",
   "execution_count": 2,
   "id": "4c6d1bf3",
   "metadata": {},
   "outputs": [],
   "source": [
    "def Q3(nums):\n",
    "        n = len(nums)\n",
    "        i = n - 1\n",
    "        while i > 0 and nums[i] <= nums[i - 1]:\n",
    "            i -= 1\n",
    "        reverse(nums, i, n - 1)\n",
    "        if i > 0:\n",
    "            for j in range(i, n):\n",
    "                if nums[j] > nums[i-1]:\n",
    "                    swap(nums, i-1, j)\n",
    "                    break\n",
    "        \n",
    "def reverse(nums, i, j):\n",
    "    for k in range(i, int((i + j) / 2 + 1)):\n",
    "        swap(nums, k, i + j - k)\n",
    "\n",
    "def swap(nums, i, j):\n",
    "    nums[i], nums[j] = nums[j], nums[i]\n",
    "    \n",
    "Q3([1,2,3])"
   ]
  },
  {
   "cell_type": "markdown",
   "id": "bf7656dd",
   "metadata": {},
   "source": [
    "Question 4 Given a sorted array of distinct integers and a target value, return the index if the target is found. If not, return the index where it would be if it were inserted in order."
   ]
  },
  {
   "cell_type": "code",
   "execution_count": null,
   "id": "f62c85d8",
   "metadata": {},
   "outputs": [],
   "source": [
    "def Q4(nums,target):\n",
    "    start = 0\n",
    "    end = len(nums) - 1\n",
    "    while (start <= end):\n",
    "        mid = (start + end)/2\n",
    "    if nums[mid] == target:\n",
    "        return mid\n",
    "    elif target > nums[mid]:\n",
    "        start = mid + 1\n",
    "    else:\n",
    "        end = mid -1\n",
    "    return end + 1\n",
    "\n",
    "Q4([1,3,5,6],5)"
   ]
  },
  {
   "cell_type": "markdown",
   "id": "4ed2d837",
   "metadata": {},
   "source": [
    "Question 5 You are given a large integer represented as an integer array digits, where each digits[i] is the ith digit of the integer. The digits are ordered from most significant to least significant in left-to-right order. The large integer does not contain any leading 0's.\n",
    "Increment the large integer by one and return the resulting array of digits."
   ]
  },
  {
   "cell_type": "code",
   "execution_count": null,
   "id": "48c4d817",
   "metadata": {},
   "outputs": [],
   "source": [
    "def Q5(nums):\n",
    "    i = len(nums) - 1\n",
    "    while (i >= 0 and nums[i] == 9):\n",
    "        nums[i] = 0\n",
    "        i -= 1\n",
    "    if (i < 0):\n",
    "        nums.insert(0, 1)\n",
    "    else:\n",
    "        nums[index]+=1\n",
    "Q5([1,2,3])"
   ]
  },
  {
   "cell_type": "markdown",
   "id": "a8289e3a",
   "metadata": {},
   "source": [
    "Question 6 Given a non-empty array of integers nums, every element appears twice except for one. Find that single one."
   ]
  },
  {
   "cell_type": "code",
   "execution_count": null,
   "id": "30ab14c9",
   "metadata": {},
   "outputs": [],
   "source": [
    "def Q6(nums):\n",
    "    nums.sort()\n",
    "    i = 0\n",
    "    while i <= len(nums)-1:\n",
    "        if i == len(nums)-1:\n",
    "            print(nums[i])\n",
    "            break\n",
    "        if nums[i] == nums[i+1]:\n",
    "            i += 2\n",
    "        else:\n",
    "            print(nums[i])\n",
    "            break\n",
    "Q6([2,2,1])"
   ]
  },
  {
   "cell_type": "markdown",
   "id": "ce676539",
   "metadata": {},
   "source": [
    "Question 8 Given an array of meeting time intervals where intervals[i] = [starti, endi], determine if a person could attend all meetings."
   ]
  },
  {
   "cell_type": "code",
   "execution_count": null,
   "id": "86092832",
   "metadata": {},
   "outputs": [],
   "source": [
    "def Q8(intervals):\n",
    "    starts = len(intervals)\n",
    "    ends = len(intervals)\n",
    "    for i in range(len(intervals)):\n",
    "        starts[i] = intervals[i][0]\n",
    "        ends[i] = intervals[i][1]\n",
    "    starts.sort()\n",
    "    ends.sort()\n",
    "    rooms = 0\n",
    "    endsItr = 0\n",
    "    for i in range(len(starts)):\n",
    "        if starts[i] < ends[endsItr]:\n",
    "            rooms += 1\n",
    "        else:\n",
    "            endsItr += 1\n",
    "    return rooms\n",
    "Q8([[0,30],[5,10],[15,20]])"
   ]
  },
  {
   "cell_type": "code",
   "execution_count": null,
   "id": "c1169ce0",
   "metadata": {},
   "outputs": [],
   "source": []
  }
 ],
 "metadata": {
  "kernelspec": {
   "display_name": "Python 3 (ipykernel)",
   "language": "python",
   "name": "python3"
  },
  "language_info": {
   "codemirror_mode": {
    "name": "ipython",
    "version": 3
   },
   "file_extension": ".py",
   "mimetype": "text/x-python",
   "name": "python",
   "nbconvert_exporter": "python",
   "pygments_lexer": "ipython3",
   "version": "3.9.12"
  }
 },
 "nbformat": 4,
 "nbformat_minor": 5
}
